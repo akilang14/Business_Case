{
 "cells": [
  {
   "cell_type": "markdown",
   "id": "531567e8",
   "metadata": {},
   "source": [
    "### Extract the data from the CSV"
   ]
  },
  {
   "cell_type": "code",
   "execution_count": 4,
   "id": "8b114954",
   "metadata": {},
   "outputs": [],
   "source": [
    "import numpy as np\n",
    "from sklearn import preprocessing\n",
    "\n",
    "raw_csv_data = np.loadtxt('Audiobooks_data.csv', delimiter =',')\n",
    "\n",
    "unscalled_inputs_all = raw_csv_data[:,1:-1] ## Seprate the ID number, and target values\n",
    "targets_all = raw_csv_data[:,-1]    ## Seunsc only the target values"
   ]
  },
  {
   "cell_type": "markdown",
   "id": "9680eed7",
   "metadata": {},
   "source": [
    "### Balance the dataset"
   ]
  },
  {
   "cell_type": "code",
   "execution_count": 11,
   "id": "218d029c",
   "metadata": {},
   "outputs": [],
   "source": [
    "## need to calculate the 1's from targets\n",
    "num_one_targets = int(np.sum(targets_all))\n",
    "\n",
    "## need to keep same count of 0's(delete the others) \n",
    "zero_target_counter = 0\n",
    "## create the varibale that records the variables need to remove\n",
    "indices_to_remove = []  ## we need to have list of tuple, so we created the empty brackets\n",
    "\n",
    "## need to iterate over the dataset and balance it\n",
    "for i in range(targets_all.shape[0]):\n",
    "    if targets_all[i] == 0:\n",
    "        zero_target_counter += 1\n",
    "        if zero_target_counter > num_one_targets:\n",
    "            indices_to_remove.append(i)  ## number target 0 count is equals to 1 count, will note the indices to indices_to_rm\n",
    "\n",
    "## we remove the indices from the original list of inputs & targets\n",
    "unscalled_inputs_equal_priors = np.delete(unscalled_inputs_all, indices_to_remove, axis=0)\n",
    "targets_equal_priors = np.delete(targets_all, indices_to_remove, axis=0)"
   ]
  },
  {
   "cell_type": "markdown",
   "id": "19440766",
   "metadata": {},
   "source": [
    "### Standardize the inputs"
   ]
  },
  {
   "cell_type": "code",
   "execution_count": 14,
   "id": "6263c407",
   "metadata": {},
   "outputs": [],
   "source": [
    "### with the help of preprocessing tool we can standardize the data \n",
    "scaled_inputs = preprocessing.scale(unscalled_inputs_equal_priors)"
   ]
  },
  {
   "cell_type": "markdown",
   "id": "1e252ae4",
   "metadata": {},
   "source": [
    "### Shuffle the data"
   ]
  },
  {
   "cell_type": "code",
   "execution_count": 15,
   "id": "217a8d72",
   "metadata": {},
   "outputs": [],
   "source": [
    "## There might be a possiblity that our data could be in order, since we are batching we need to shuffle the data\n",
    "## if the data is in order it will confuse the SGD, when we average the loss across the batches\n",
    " \n",
    "shuffled_indices = np.arange(scaled_inputs.shape[0]) ## scaled input values are stored in a variable\n",
    "np.random.shuffle(shuffled_indices)       ### then the data is shuffled using the random.shuffle method by using indices\n",
    " \n",
    "shuffled_inputs = scaled_inputs[shuffled_indices]   ## shuffle the inputs using indices\n",
    "shuffled_targets = targets_equal_priors[shuffled_indices] ## shuffle the targets"
   ]
  },
  {
   "cell_type": "markdown",
   "id": "39427cb7",
   "metadata": {},
   "source": [
    "### Split the data into Training, Validation and Test"
   ]
  },
  {
   "cell_type": "code",
   "execution_count": 20,
   "id": "bcf8a552",
   "metadata": {},
   "outputs": [
    {
     "name": "stdout",
     "output_type": "stream",
     "text": [
      "Train_data:  1796.0 3579 0.5018161497625034\n",
      "validation_data:  232.0 447 0.5190156599552572\n",
      "Test_data:  209.0 448 0.46651785714285715\n"
     ]
    }
   ],
   "source": [
    "samples_count = shuffled_inputs.shape[0]\n",
    "\n",
    "## we must determine the size of the datasetf\n",
    "## here we split the data as 80:10:10 for train:validation:test\n",
    "\n",
    "train_samples_count = int(0.8*samples_count)\n",
    "validation_samples_count = int(0.1*samples_count)\n",
    "test_samples_count = samples_count - train_samples_count -validation_samples_count\n",
    "\n",
    "## we need to extract them from the big dataset\n",
    "\n",
    "## train samples can be extracted from the selected train_samples_count\n",
    "train_inputs = shuffled_inputs[:train_samples_count]\n",
    "train_targets = shuffled_targets[:train_samples_count]\n",
    "\n",
    "## validation samples are collected using the below method\n",
    "validation_inputs = shuffled_inputs[train_samples_count:train_samples_count+validation_samples_count]\n",
    "validation_targets = shuffled_targets[train_samples_count:train_samples_count+validation_samples_count]\n",
    "\n",
    "## test data is the remaining data\n",
    "test_inputs = shuffled_inputs[train_samples_count+validation_samples_count:]\n",
    "test_targets = shuffled_targets[train_samples_count+validation_samples_count:]\n",
    "\n",
    "### print and check the data which is left\n",
    "print(\"Train_data: \",np.sum(train_targets), train_samples_count, np.sum(train_targets) / train_samples_count)\n",
    "print(\"validation_data: \",np.sum(validation_targets), validation_samples_count, np.sum(validation_targets)/validation_samples_count)\n",
    "print(\"Test_data: \",np.sum(test_targets), test_samples_count, np.sum(test_targets)/test_samples_count)"
   ]
  },
  {
   "cell_type": "markdown",
   "id": "63120c3b",
   "metadata": {},
   "source": [
    "### Save three dataset in .npz format"
   ]
  },
  {
   "cell_type": "code",
   "execution_count": 21,
   "id": "a9edde26",
   "metadata": {},
   "outputs": [],
   "source": [
    "np.savez('Audiobooks_data_train', inputs=train_inputs, targets=train_targets)\n",
    "np.savez('Audiobooks_data_validation', inputs=validation_inputs, targets=validation_targets)\n",
    "np.savez('Audiobooks_data_test', inputs=test_inputs, targets=test_targets)"
   ]
  },
  {
   "cell_type": "raw",
   "id": "4af046ad",
   "metadata": {},
   "source": [
    "Each time we run the code, we preprocess the data once again"
   ]
  }
 ],
 "metadata": {
  "kernelspec": {
   "display_name": "Python 3",
   "language": "python",
   "name": "python3"
  },
  "language_info": {
   "codemirror_mode": {
    "name": "ipython",
    "version": 3
   },
   "file_extension": ".py",
   "mimetype": "text/x-python",
   "name": "python",
   "nbconvert_exporter": "python",
   "pygments_lexer": "ipython3",
   "version": "3.8.8"
  }
 },
 "nbformat": 4,
 "nbformat_minor": 5
}
